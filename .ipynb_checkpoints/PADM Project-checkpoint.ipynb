{
 "cells": [
  {
   "cell_type": "code",
   "execution_count": 3,
   "id": "5720b1d1",
   "metadata": {},
   "outputs": [],
   "source": [
    "## Problem Definition\n",
    "\n",
    "# We are defining a system of medical vaccine delivery through use of drones\n",
    "# We are using constraint programming for route selction and sequence of drop locations\n",
    "# then we are using RRT to ....\n"
   ]
  },
  {
   "cell_type": "markdown",
   "id": "634d0b0c",
   "metadata": {},
   "source": [
    "I can type **bold** and *italicized* text.\n",
    "\n",
    "I can type equations:\n",
    "\n",
    "$$\\sum_{i=0}^{k}x_i$$\n",
    "\n",
    "I can type in-line equations $x+y=z$."
   ]
  },
  {
   "cell_type": "code",
   "execution_count": null,
   "id": "3fd1315a",
   "metadata": {},
   "outputs": [],
   "source": [
    "# Defining Inputs to the model ( Constants or Parameters ) "
   ]
  },
  {
   "cell_type": "code",
   "execution_count": 17,
   "id": "2776787c",
   "metadata": {},
   "outputs": [
    {
     "ename": "SyntaxError",
     "evalue": "invalid syntax (Temp/ipykernel_28604/2034830670.py, line 13)",
     "output_type": "error",
     "traceback": [
      "\u001b[1;36m  File \u001b[1;32m\"C:\\Users\\anups\\AppData\\Local\\Temp/ipykernel_28604/2034830670.py\"\u001b[1;36m, line \u001b[1;32m13\u001b[0m\n\u001b[1;33m    param distance {suppliers,suppliers}; #need to put matrix of distances .\u001b[0m\n\u001b[1;37m          ^\u001b[0m\n\u001b[1;31mSyntaxError\u001b[0m\u001b[1;31m:\u001b[0m invalid syntax\n"
     ]
    }
   ],
   "source": [
    "\n",
    "\n",
    "n_drop_points = 10\n",
    "n_drones = 5 # we need to define the drones in capacity with different\n",
    "n_property = 2 # weight carrying capacity for medicines and number of vaccines in terms of nos ( cold storage )\n",
    "n_trips = 5 # number of trips in a week possible \n",
    "\n",
    "# all sets definition\n",
    "# set suppliers:= 1..n_suppliers;\n",
    "# set trips:=1..n_trips;\n",
    "# set truck:=1..n_trucks;\n",
    "# set property := 1..n_property;\n",
    "# set ARCS := {i in suppliers, j in suppliers : i == j} ; \n",
    "\n",
    "param distance {suppliers,suppliers}; #need to put matrix of distances . \n",
    "distance = [[0,419,310,25,49,26,59,26,25,25],\n",
    "            [419,0,592,445,483,413,421,458,456,455],\n",
    "            [310,592,0,335,358,288,278,335,333,333]\n",
    "            [310,592,0,335,358,288,278,335,333,333]\n",
    "            [25,445,335,0,30,51,113,7,3.9,3]\n",
    "            [49,483,358,30,0,75,136,30,28,27]\n",
    "            [26,413,288,51,75,0,80,52,49,49]\n",
    "            [59,421,278,113,136,80,0,112,146,145]\n",
    "            [26,458,335,7,30,52,112,0,4.7,5]\n",
    "            [25,456,333,3.9,28,49,146,4.7,0,1.6]\n",
    "            [25,455,333,3,27,49,145,5,1.6,0]\n",
    "            ]\n",
    "    \n",
    "#param FCT {truck};\n",
    "FCT = [542,577,577,577,577] # this is the fixed cost of running the drone\n",
    "\n",
    "#param VC {truck};\n",
    "VC = [32,28,28,28,28] # this is the variable cost of running the drone per km\n",
    "\n",
    "#param S;\n",
    "S = 35 #speed of the drone\n",
    "\n",
    "#param demand {suppliers,property};\n",
    "demand = [[0,0]\n",
    "        ]\n",
    "\n",
    "param teff;\n",
    "drone_eff = 0.95 # hos much of the drone capacity we can use\n",
    "\n",
    "param capacity {truck,property}; # how to put drone capacity here\n",
    "\n",
    "tripCost = [100,100,100,100,100]\n",
    "\n",
    "max_dist = 3200  #you dont want the drone to travel more than a ptricual distance than 16 hours a week. \n",
    "\n",
    "profit = 1.375 #Percentage margin\n",
    "\n",
    "# Sample Pup Problem Below for reference"
   ]
  },
  {
   "cell_type": "code",
   "execution_count": 1,
   "id": "f90bf60c",
   "metadata": {},
   "outputs": [],
   "source": [
    "from pulp import *"
   ]
  },
  {
   "cell_type": "code",
   "execution_count": 2,
   "id": "52b34d21",
   "metadata": {},
   "outputs": [],
   "source": [
    "x1 = LpVariable(\"ChickenPercent\", 0, None, LpInteger)\n",
    "x2 = LpVariable(\"BeefPercent\", 0)\n"
   ]
  },
  {
   "cell_type": "code",
   "execution_count": 6,
   "id": "5ce89d82",
   "metadata": {},
   "outputs": [
    {
     "name": "stderr",
     "output_type": "stream",
     "text": [
      "C:\\Users\\anups\\.julia\\conda\\3\\lib\\site-packages\\pulp\\pulp.py:1313: UserWarning: Spaces are not permitted in the name. Converted to '_'\n",
      "  warnings.warn(\"Spaces are not permitted in the name. Converted to '_'\")\n"
     ]
    }
   ],
   "source": [
    "# Create the 'prob' variable to contain the problem data\n",
    "prob = LpProblem(\"The Whiskas Problem\", LpMinimize)"
   ]
  },
  {
   "cell_type": "code",
   "execution_count": 7,
   "id": "48ae5652",
   "metadata": {},
   "outputs": [],
   "source": [
    "# The objective function is added to 'prob' first\n",
    "prob += 0.013 * x1 + 0.008 * x2, \"Total Cost of Ingredients per can\""
   ]
  },
  {
   "cell_type": "code",
   "execution_count": 8,
   "id": "c43ae8f7",
   "metadata": {},
   "outputs": [],
   "source": [
    "# The five constraints are entered\n",
    "prob += x1 + x2 == 100, \"PercentagesSum\"\n",
    "prob += 0.100 * x1 + 0.200 * x2 >= 8.0, \"ProteinRequirement\"\n",
    "prob += 0.080 * x1 + 0.100 * x2 >= 6.0, \"FatRequirement\"\n",
    "prob += 0.001 * x1 + 0.005 * x2 <= 2.0, \"FibreRequirement\"\n",
    "prob += 0.002 * x1 + 0.005 * x2 <= 0.4, \"SaltRequirement\""
   ]
  },
  {
   "cell_type": "code",
   "execution_count": 9,
   "id": "97b93ac7",
   "metadata": {},
   "outputs": [
    {
     "data": {
      "text/plain": [
       "[BeefPercent, ChickenPercent]"
      ]
     },
     "execution_count": 9,
     "metadata": {},
     "output_type": "execute_result"
    }
   ],
   "source": [
    "# The problem data is written to an .lp file\n",
    "prob.writeLP(\"WhiskasModel.lp\")"
   ]
  },
  {
   "cell_type": "code",
   "execution_count": 10,
   "id": "c1aa178f",
   "metadata": {},
   "outputs": [
    {
     "data": {
      "text/plain": [
       "1"
      ]
     },
     "execution_count": 10,
     "metadata": {},
     "output_type": "execute_result"
    }
   ],
   "source": [
    "# The problem is solved using PuLP's choice of Solver\n",
    "prob.solve()"
   ]
  },
  {
   "cell_type": "code",
   "execution_count": 11,
   "id": "ac139f9d",
   "metadata": {},
   "outputs": [
    {
     "name": "stdout",
     "output_type": "stream",
     "text": [
      "Status: Optimal\n"
     ]
    }
   ],
   "source": [
    "# The status of the solution is printed to the screen\n",
    "print(\"Status:\", LpStatus[prob.status])"
   ]
  },
  {
   "cell_type": "code",
   "execution_count": 12,
   "id": "8ad14987",
   "metadata": {},
   "outputs": [
    {
     "name": "stdout",
     "output_type": "stream",
     "text": [
      "BeefPercent = 66.0\n",
      "ChickenPercent = 34\n"
     ]
    }
   ],
   "source": [
    "# Each of the variables is printed with it's resolved optimum value\n",
    "for v in prob.variables():\n",
    "    print(v.name, \"=\", v.varValue)"
   ]
  },
  {
   "cell_type": "code",
   "execution_count": 13,
   "id": "5ee731ed",
   "metadata": {},
   "outputs": [
    {
     "name": "stdout",
     "output_type": "stream",
     "text": [
      "Total Cost of Ingredients per can =  0.97\n"
     ]
    }
   ],
   "source": [
    "# The optimised objective function value is printed to the screen\n",
    "print(\"Total Cost of Ingredients per can = \", value(prob.objective))"
   ]
  },
  {
   "cell_type": "code",
   "execution_count": null,
   "id": "3e1bd7a9",
   "metadata": {},
   "outputs": [],
   "source": []
  }
 ],
 "metadata": {
  "kernelspec": {
   "display_name": "Python 3",
   "language": "python",
   "name": "python3"
  },
  "language_info": {
   "codemirror_mode": {
    "name": "ipython",
    "version": 3
   },
   "file_extension": ".py",
   "mimetype": "text/x-python",
   "name": "python",
   "nbconvert_exporter": "python",
   "pygments_lexer": "ipython3",
   "version": "3.8.8"
  }
 },
 "nbformat": 4,
 "nbformat_minor": 5
}
