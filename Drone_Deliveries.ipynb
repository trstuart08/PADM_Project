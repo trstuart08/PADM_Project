{
 "cells": [
  {
   "cell_type": "markdown",
   "id": "689ba2be",
   "metadata": {},
   "source": [
    "This is the start of our notebook.  Outline:\n",
    "\n",
    "1. Route Planning - RRT or RRT*\n",
    "\n",
    "2. Distribution plan - Linear Programming\n",
    "\n",
    "3. Navigation - Filtering and Smoothing\n",
    "\n",
    "Checking to see if this push method works."
   ]
  }
 ],
 "metadata": {
  "kernelspec": {
   "display_name": "Python 3",
   "language": "python",
   "name": "python3"
  },
  "language_info": {
   "codemirror_mode": {
    "name": "ipython",
    "version": 3
   },
   "file_extension": ".py",
   "mimetype": "text/x-python",
   "name": "python",
   "nbconvert_exporter": "python",
   "pygments_lexer": "ipython3",
   "version": "3.8.8"
  }
 },
 "nbformat": 4,
 "nbformat_minor": 5
}
