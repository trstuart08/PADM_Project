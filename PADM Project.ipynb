{
 "cells": [
  {
   "cell_type": "markdown",
   "id": "0ef9fa66",
   "metadata": {},
   "source": [
    "Note: you may need to install the following packages to run this notebook:\n",
    "\n",
    "1. Shapely -- see https://pypi.org/project/Shapely/ for installation instructions.\n",
    "2. Descartes -- see https://docs.descarteslabs.com/installation.html for installation instructions."
   ]
  },
  {
   "cell_type": "code",
   "execution_count": null,
   "id": "5720b1d1",
   "metadata": {},
   "outputs": [],
   "source": [
    "# Useful imports\n",
    "%load_ext autoreload\n",
    "%autoreload 2\n",
    "%matplotlib inline\n",
    "from __future__ import division\n",
    "from matplotlib import pyplot as plt\n",
    "import numpy as np\n",
    "#import yaml\n",
    "from shapely.geometry import Point, Polygon, LineString, box\n",
    "from environment import Environment, plot_environment, plot_line, plot_poly, random_environment\n",
    "import random as random"
   ]
  },
  {
   "cell_type": "markdown",
   "id": "f4aea907",
   "metadata": {},
   "source": [
    "\n",
    "# Aerial Delivery and Research Support"
   ]
  },
  {
   "cell_type": "markdown",
   "id": "0167ded7",
   "metadata": {},
   "source": [
    "## **The Problem** \n",
    "\n",
    "You lead the operations team for a group of researchers operating at remote locations throughout the Denali Wilderness. From your base camp in Denali National Park, you are responsible for delivering food, medical supplies, and equipment to the research teams located at 4 different locations throughout the wilderness--they endeavor to work at these locations throughout the summer. You are also responsible for supporting their research requirements to include maintenance of scientific equipment.\n",
    "\n",
    "*Add in some cool pictures*\n",
    "\n",
    "The terrain in Denali is extremely rugged and consists of a mix of taiga forests, high tundra, glaciers, and mountains. The research teams operate in locations unreachable by road and the scientists get in place by hiking in and out of their working locations. Currently supplies are delivered in the same way. This makes maintaining a continuous research presence extremely difficult as weather events, unexpected supply shortages, and other operational issues often lead to dangerously low provisions at the research sites--forcing the scientists to return intermittently to ensure the safety of the team.\n",
    "\n",
    "Fortunately your team has just come into possession of 7 drones who are capable of delivering supplies to the teams. Your task is to:\n",
    "\n",
    "<ol>\n",
    "    <li><b> Plan routes between all sites and the base camp avoiding designated no-fly areas.</b></li>\n",
    "    <li><b> Develop a supply delivery schedule based upon your planned routes, your drone delivery capabilities, and research team needs.</b></li>\n",
    "    <li><b> Develop a method to diagnose scientific equipment faults and issues to determine when equipment supplies need to be delivered to a team.<b/></li>\n",
    "</ol>"
   ]
  },
  {
   "cell_type": "markdown",
   "id": "929800b9",
   "metadata": {},
   "source": [
    "## **Route Planning with RRT and RRT*** \n",
    "\n",
    "Your drones can overfly most of terrain between you and the research teams but must take care to avoid areas designated noise sensitive due to wildlife, ecologically sensitive areas where it is deemed completely unnacceptable for a drone to crash, and campsites in the national park near your launch location. All of these areas were designated no-fly areas by the Bureau of Land Management and the National Park Service. Finally, some high altitude areas cannot be overflown due to drone performance limitations.\n",
    "\n",
    "Your team has developed a map depicting these no-fly areas, your base camp, and the research sites. Anything outside the map boundaries is also considered a no-fly area. Based on the ecological sensitivity of Denali (and the importance that the National Park Service puts on keeping the wilderness as pristine as possible!) there are <ins> a lot </ins> of no-fly areas. Your drones can be relied upon to stay within 100 meters of any planned path (this navigation error will be exceeded with a probability of 10<sup>-5</sup> in any given flight-hour so it's acceptable use this number for path planning!).\n",
    "\n",
    "Due to the high latitude of your operations, your team uses a grid system to specify camp locations referenced to True North. For the remote camps, you are provided with a landing zone (LZ) geometry. Each unit digit on the grid system represents one kilometer. Hence, location (-4,-2) is one kilometer *true* south of position (-3,-2).\n",
    "\n",
    "Based on this grid system, the relevant locations are:\n",
    "\n",
    "<ul class=\"dashed\">\n",
    "  <li>The base camp drone launch site is located at position (-2,-2)</li>\n",
    "  <li>The site 1 LZ bounds are (-4.5,3.6), (-4.5,4), (-4.2,4),(-4.2,3.6).</li>\n",
    "  <li>The site 2 LZ bounds are (9.7,0), (9.7,0.4), (10,0.4),(10,0).</li>\n",
    "   <li>The site 3 LZ bounds are (12.7,3.6), (12.7,4), (13,4),(13,3.6).</li>\n",
    "   <li>The site 4 LZ bounds are (13.6,-3.2), (13.6,-3.5), (14,-3.5),(14,-3.2).</li>\n",
    "</ul>\n",
    "\n",
    "**The code block below shows the map of the no-fly areas (in blue), the base camp (in magenta), and the LZs (in green).**"
   ]
  },
  {
   "cell_type": "code",
   "execution_count": null,
   "id": "72cf1819",
   "metadata": {},
   "outputs": [],
   "source": [
    "# Plot the environment \n",
    "env = Environment('Denali_650.yaml')\n",
    "ax = plot_environment(env)\n",
    "\n",
    "# Base camp location\n",
    "radius = 0.1\n",
    "start_pose = (-2,-2)\n",
    "start_point = Point(start_pose[0],start_pose[1])\n",
    "start_ball = start_point.buffer(radius)\n",
    "\n",
    "# Camp locations\n",
    "LZ1 = Polygon([(-4.5,3.6), (-4.5,4), (-4.2,4),(-4.2,3.6)])\n",
    "LZ2 = Polygon([(9.7,0), (9.7,0.4), (10,0.4),(10,0)])\n",
    "LZ3 = Polygon([(12.7,3.6), (12.7,4), (13,4),(13,3.6)])\n",
    "LZ4 = Polygon([(13.6,-3.2), (13.6,-3.5), (14,-3.5),(14,-3.2)])\n",
    "\n",
    "LZs = (LZ1, LZ2, LZ3, LZ4)\n",
    "\n",
    "\n",
    "# Plot base camp in magenta\n",
    "plot_poly(ax, start_ball,'magenta')\n",
    "# Plot research camps in green\n",
    "for LZ in LZs:\n",
    "    plot_poly(ax, LZ,'green')"
   ]
  },
  {
   "cell_type": "markdown",
   "id": "220e69ba",
   "metadata": {},
   "source": [
    "<ins>**Rapidly Exploring Random Trees (RRT)**</ins>\n",
    "\n",
    "Looking at the map, you are a bit baffled in how you can make sure you find the best routes through this maze. Fortunately, you took 16.413 at MIT and recall learning about sampling-based planning methods--in particular Rapidly Exploring Random Trees (RRT). You decide to first tackle this problem with RRT. We chose RRT over graph search primarily due to the curse of dimensionality as highlighted in the course. For a better path, we would like to discretize our map further which exponentially increases the node size in case of a graph search algoithm. Further, we can also incoporate our agent's dynamics using RRT since we simulate forward (much harder to implement in probabilistic roadmap planning).\n",
    "\n",
    "**Academic description of RRT**\n",
    "In RRT (Rapidly Exploring Random Trees), the search tree is incrementally generated using samples from search space in a random fashion. In the iterative process:\n",
    "<li> A random coordinate is chosen in free space </li>\n",
    "<li> Find the nearest vertex exisiting in the tree to that coordinate</li>\n",
    "<li> Steer that vertex in the direction of the coordinate by a depth d</li>\n",
    "<li> If the new vertex is obstacle free, add it to our tree.</li>\n",
    "<li> Repeat the above steps until the vertex lands in the goal region</li>\n",
    "RRT is probabilistically complete which means that it will find a solution in case the solution exists (though it may take a long time to run). A few downsides of RRT are that it usually returns a suboptimal path and also fails to check if a path does not exist (i.e. the algorithm will run forever in case the path between start and goal location does not exist).\n",
    "\n",
    "**RRT Demo going from Base Camp --> LZ1, discuss how non-optimal**\n",
    "\n",
    "Taking a look at the produced route, you can tell by inspection that the route is clearly not optimal. Thankfully, you remember that there is an optimal version of RRT, RRT* that you should be able to implement for this problem.\n",
    "\n",
    "<b> Academic description of RRT* </b>\n",
    "RRT* is an optimized version of RRT, and is asymptotically optimal. In an ideal case when number of nodes tend to infinity, RRT* yields the shortest path (optimal path) to the goal by keeping track of the distance each vertex has travelled relative to the parent vertex. Another variation is that after a vertex is added to the lowest cost neighbor, the tree is rewired to the new vertex in order to decrease individual cost. In the the iterative process:\n",
    "<li> A random coordinate is chosen in free space </li>\n",
    "<li> Find the nearest vertex exisiting in the tree to that coordinate</li>\n",
    "<li> Steer that vertex in the direction of the coordinate by a depth d</li>\n",
    "<li> \"Still working on this\" - Aadi</li>"
   ]
  },
  {
   "cell_type": "markdown",
   "id": "f06aaec5",
   "metadata": {},
   "source": [
    "## **Solution Development and Topics References** \n",
    "\n",
    "We want to use 3 tools learned in class. The RRT/RRT* probabilistic planning, constraint programming (MIP), and hidden markov models (HMM) methods for the same. The basic idea is to use the RRT/RRT* to determine the shortest distance from the base camp to each of the destinations and among all destinations. This distance will be later used as an input into the mathematical program for constraint programming. We will use an HMM to determine if scientific equipment is malfunctioning.\n",
    "\n",
    "Once the distance matrix is populated using RRT, we will go ahead and use mathematical programming to model the entire problem as a vechile routing program to optimize the number of vehicles to be used, the type of vehicle to be used, the sequence of destinations to be allocated and the total cost of operations. (# TOM PLEASE ADD HERE)"
   ]
  },
  {
   "cell_type": "markdown",
   "id": "652f0d74",
   "metadata": {},
   "source": [
    "### **Tools to be used** \n",
    "\n",
    "RRT - Use assignment modules with some modification <br>\n",
    "Linear Programming - Use PuLP package in python (do you guys want to use Gurobi???)\n",
    "HMM - code it up"
   ]
  },
  {
   "cell_type": "markdown",
   "id": "5785bb2e",
   "metadata": {},
   "source": [
    "## **Solution Start**"
   ]
  },
  {
   "cell_type": "markdown",
   "id": "72b84183",
   "metadata": {},
   "source": [
    "### **RRT**"
   ]
  },
  {
   "cell_type": "markdown",
   "id": "7a45de12",
   "metadata": {},
   "source": [
    "**Input** : The map of the delivery region and the coordinates of the basecamp and the five destinations <br>\n",
    "**Output** : The distance matrix between basecamp and destinations <br>\n",
    "**Method** : Run RRT/RRT* among all points (basecamp and destinations) and populate with the shortest distance <br>"
   ]
  },
  {
   "cell_type": "markdown",
   "id": "0bd45e6a",
   "metadata": {},
   "source": [
    "### **Mathematical Programming**"
   ]
  },
  {
   "cell_type": "markdown",
   "id": "3f6542a1",
   "metadata": {},
   "source": [
    "**Objective function** : <br>\n",
    "The objective function is to minimize the total cost of operations. <br> \n",
    "Out intention is to have 2 components to total cost. <br>\n",
    "Fixed cost : Fixed cost of using the vehicle.<br>\n",
    "Variable Cost : Cost incurred by using the vehicle. This cost varies with the usage ( such as fuel costs ).<br>"
   ]
  },
  {
   "cell_type": "markdown",
   "id": "a70f0f03",
   "metadata": {},
   "source": [
    "**Parameters or Input to the Program** : <br>\n",
    "1. Distance matrix from RRT <br> \n",
    "2. Fixed cost of using the truck USD/ trip <br>\n",
    "3. Variable cost of using the truck ~ USD/ KM <br>\n",
    "4. Averge speed of the vehicle ~ km/hr <br>\n",
    "5. Weekly demand from each destination in terms of tons (tons) and volume (cubic meter)<br>\n",
    "6. Capacity of truck in terms of tons and volume<br>\n",
    "7. Eficiency of vehicle could be used ( % of weight or volume capacity could be used)<br>"
   ]
  },
  {
   "cell_type": "markdown",
   "id": "2fae2b2f",
   "metadata": {},
   "source": [
    "**Decisions Variable** : <br>\n",
    "1. X refers to the % of load of weekly demand moved from basecamp to differnet destinations ~ lies between 0 and 1 <br> \n",
    "2. Y refers to whether a truck is used or not ~ binary <br>\n"
   ]
  },
  {
   "cell_type": "markdown",
   "id": "d13a264d",
   "metadata": {},
   "source": [
    "**Constraints** : <br>\n",
    "1. No movement from destination i to detination i\n",
    "2. Relationship between Y and X . If X > 0 for a trip in a day , then Y should be 1 for that trip, 0 otherwise\n",
    "3. Sum across all X should be more than 100%. Weekly demand is met. \n",
    "4. Load in a truck within the capacity\n",
    "5. Subtour elimination constraints ( to ensure that vehicle does not get into cycles and get stuck)\n",
    "6. Balacning constraint ( at every destination what comes in goes out )\n"
   ]
  },
  {
   "cell_type": "markdown",
   "id": "91c7d14b",
   "metadata": {},
   "source": [
    "###### Below this line is only trials #"
   ]
  },
  {
   "cell_type": "markdown",
   "id": "634d0b0c",
   "metadata": {},
   "source": [
    "I can type **bold** and *italicized* text.\n",
    "\n",
    "I can type equations:\n",
    "\n",
    "$$\\sum_{i=0}^{k}x_i$$\n",
    "\n",
    "I can type in-line equations $x+y=z$."
   ]
  },
  {
   "cell_type": "code",
   "execution_count": 4,
   "id": "ce6197b4",
   "metadata": {},
   "outputs": [
    {
     "ename": "ModuleNotFoundError",
     "evalue": "No module named 'pulp'",
     "output_type": "error",
     "traceback": [
      "\u001b[1;31m---------------------------------------------------------------------------\u001b[0m",
      "\u001b[1;31mModuleNotFoundError\u001b[0m                       Traceback (most recent call last)",
      "\u001b[1;32m<ipython-input-4-09d85b5eefd9>\u001b[0m in \u001b[0;36m<module>\u001b[1;34m\u001b[0m\n\u001b[0;32m      1\u001b[0m \u001b[1;32mimport\u001b[0m \u001b[0mnumpy\u001b[0m \u001b[1;32mas\u001b[0m \u001b[0mnp\u001b[0m\u001b[1;33m\u001b[0m\u001b[1;33m\u001b[0m\u001b[0m\n\u001b[1;32m----> 2\u001b[1;33m \u001b[1;32mfrom\u001b[0m \u001b[0mpulp\u001b[0m \u001b[1;32mimport\u001b[0m \u001b[1;33m*\u001b[0m\u001b[1;33m\u001b[0m\u001b[1;33m\u001b[0m\u001b[0m\n\u001b[0m",
      "\u001b[1;31mModuleNotFoundError\u001b[0m: No module named 'pulp'"
     ]
    }
   ],
   "source": [
    "import numpy as np\n",
    "from pulp import *"
   ]
  },
  {
   "cell_type": "code",
   "execution_count": null,
   "id": "fb1a35ce",
   "metadata": {},
   "outputs": [],
   "source": [
    "# Define the maps containing start and goal nodes alog with obstacles"
   ]
  },
  {
   "cell_type": "code",
   "execution_count": null,
   "id": "d99199a2",
   "metadata": {},
   "outputs": [],
   "source": [
    "# Use RRT/RRT* to calculate the optimal distance matrix coresponding to the distances between basecamp and destinations"
   ]
  },
  {
   "cell_type": "code",
   "execution_count": null,
   "id": "3fd1315a",
   "metadata": {},
   "outputs": [],
   "source": [
    "# Defining Inputs to the model ( Constants or Parameters ) "
   ]
  },
  {
   "cell_type": "code",
   "execution_count": 6,
   "id": "2776787c",
   "metadata": {},
   "outputs": [],
   "source": [
    "\n",
    "\n",
    "n_drop_points = 10\n",
    "n_drones = 5 # we need to define the drones in capacity with different\n",
    "n_property = 2 # weight carrying capacity for medicines and number of vaccines in terms of nos ( cold storage )\n",
    "n_trips = 5 # number of trips in a week possible \n",
    "\n",
    "# all sets definition\n",
    "# set suppliers:= 1..n_suppliers;\n",
    "# set trips:=1..n_trips;\n",
    "# set truck:=1..n_trucks;\n",
    "# set property := 1..n_property;\n",
    "# set ARCS := {i in suppliers, j in suppliers : i == j} ; \n",
    "\n",
    "#param distance {suppliers,suppliers}; #need to put matrix of distances . \n",
    "distance = [[0,419,310,25,49,26],\n",
    "            [419,0,592,445,483,413],\n",
    "            [310,592,0,335,358,288],\n",
    "            [25,445,335,0,30,51],\n",
    "            [49,483,358,30,0,75],\n",
    "            [26,413,288,51,75,0],\n",
    "            ]\n",
    "    \n",
    "#param FCT {truck};\n",
    "FCT = [542,577,577] # this is the fixed cost of running the drone\n",
    "\n",
    "#param VC {truck};\n",
    "VC = [32,28,28] # this is the variable cost of running the drone per km\n",
    "\n",
    "#param S;\n",
    "S = 35 #speed of the drone\n",
    "\n",
    "#param demand {suppliers,property};\n",
    "demand = [[0,0],[33.8,27.5],[10,25],[3.5,10],[7.9,11.25],[0.75,5]]\n",
    "        \n",
    "\n",
    "#param teff;\n",
    "eff = 0.95 # hos much of the drone capacity we can use\n",
    "\n",
    "#param capacity {truck,property}; # how to put drone capacity here\n",
    "capacity = [[14.5,37],[7.6,37],[7.6,37]]\n",
    "\n",
    "tripCost = [100,100,100,100,100]\n",
    "\n",
    "max_dist = 3200  #you dont want the drone to travel more than a ptricual distance than 16 hours a week. \n",
    "\n",
    "profit = 1.375 #Percentage margin\n",
    "\n",
    "# Sample Pup Problem Below for reference\n",
    "\n",
    "nSuppliers = 5 # 0...4\n",
    "nTrips = 5 # 0 ... 4\n",
    "nTrucks = 5\n",
    "nProp = 2\n",
    "\n",
    "# Suppliers:\n",
    "Supp = [i for i in range(nSuppliers)]\n",
    "Trips = [i for i in range(nTrips)]\n",
    "Trucks = [i for i in range(nTrucks)]\n",
    "Property = [i for i in range(nProp)]\n",
    "truck_property = [(14.5,37), (7.6,37), (7.6,37)] # (weight, volume)"
   ]
  },
  {
   "cell_type": "code",
   "execution_count": null,
   "id": "61d139d4",
   "metadata": {},
   "outputs": [],
   "source": [
    "iter = [(i,j,d,t) for t in range(nTrucks) for d in range(nTrips) for j in range(nSuppliers) for i in range(nSuppliers)]\n",
    "# Decision variables\n",
    "X_ijdt = LpVariable.dicts(\"X\",(Supp,Supp, Trips, Trucks),0,1)\n",
    "Y_dt = LpVariable.dicts(\"Y\",(Trips, Trucks),0,1, cat = 'Binary')\n",
    "Z_ijdt = LpVariable.dicts(\"Z\",(Supp,Supp, Trips, Trucks),0,1, cat = 'Binary')\n",
    "R_idt = LpVariable.dicts(\"R\",(Supp, Trips, Trucks),0,None, cat = 'Integer')"
   ]
  },
  {
   "cell_type": "code",
   "execution_count": null,
   "id": "f90bf60c",
   "metadata": {},
   "outputs": [],
   "source": [
    "# Objective funtion\n",
    "B = LpProblem(\"Transportation_variable_cost_problem\",LpMinimize)\n",
    "B += lpSum([Z_ijdt[i][j][d][t]*distance[i][j]*VC[t] for (i,j,d,t) in iter]), \"Sum_ofVariable_Cost\""
   ]
  },
  {
   "cell_type": "code",
   "execution_count": null,
   "id": "56e3e5f0",
   "metadata": {},
   "outputs": [],
   "source": [
    "# Constraints 0,1,2\n",
    "for i in Supp:\n",
    "    \n",
    "    for j in Supp:\n",
    "            for t in Trucks:\n",
    "                for d in Trips:\n",
    "                    if i == j:\n",
    "                        B += X_ijdt[i][j][d][t] <= 0 # Constraint 0\n",
    "                    B += Y_dt[d][t] >= X_ijdt[i][j][d][t] # Constraint 1\n",
    "                    B += Z_ijdt[i][j][d][t] >= X_ijdt[i][j][d][t] # Constraint 2\n",
    "                     \n",
    "        "
   ]
  },
  {
   "cell_type": "code",
   "execution_count": null,
   "id": "db34d197",
   "metadata": {},
   "outputs": [],
   "source": [
    "#constraint 3\n",
    "for i in supp:\n",
    "    B += lpsum([ X_ijdt[i][j][d][t] for j in Supp for d in Trips for t in Trucks ] ) >= 1 "
   ]
  },
  {
   "cell_type": "code",
   "execution_count": null,
   "id": "5ec46cf9",
   "metadata": {},
   "outputs": [],
   "source": [
    "#constraint 4\n",
    "for d in Trips:\n",
    "    for t in Trucks:\n",
    "        for p in Property:\n",
    "            B += lpsum([ X_ijdt[i][j][d][t] * demand[i][p] for i in Supp, for j in Supp  ] ) <= eff * capacity[t][p]"
   ]
  },
  {
   "cell_type": "code",
   "execution_count": null,
   "id": "88123b62",
   "metadata": {},
   "outputs": [],
   "source": [
    "#constraint 5\n",
    "for t in Trucks:\n",
    "    B += lpsum([ Z_ijdt[i][j][d][t] * distance[i][j] for i in Supp, for j in Supp, for d in Trips ] ) <= max_dist\n",
    "    "
   ]
  },
  {
   "cell_type": "code",
   "execution_count": 8,
   "id": "480127b5",
   "metadata": {},
   "outputs": [
    {
     "ename": "SyntaxError",
     "evalue": "invalid syntax (<ipython-input-8-d1ef91bb6ea5>, line 2)",
     "output_type": "error",
     "traceback": [
      "\u001b[1;36m  File \u001b[1;32m\"<ipython-input-8-d1ef91bb6ea5>\"\u001b[1;36m, line \u001b[1;32m2\u001b[0m\n\u001b[1;33m    for i>=2 in supp:\u001b[0m\n\u001b[1;37m         ^\u001b[0m\n\u001b[1;31mSyntaxError\u001b[0m\u001b[1;31m:\u001b[0m invalid syntax\n"
     ]
    }
   ],
   "source": [
    "#constraint 6\n",
    "for i>=2 in supp:\n",
    "    for j>=2 in supp:\n",
    "        B += R[j][d][t] >= R[i][d][t] - nSuppliers * ( 1- Z_ijdt[1][j][d][t])"
   ]
  },
  {
   "cell_type": "code",
   "execution_count": null,
   "id": "0a7d2d06",
   "metadata": {},
   "outputs": [],
   "source": [
    "#constraint 7\n",
    "for d in Trips:\n",
    "    for t in Trucks:\n",
    "        B += R[1,d,t] = 1"
   ]
  },
  {
   "cell_type": "code",
   "execution_count": null,
   "id": "3b127758",
   "metadata": {},
   "outputs": [],
   "source": [
    "#constraint 8\n",
    "for d in Trips:\n",
    "    for t in Trucks:\n",
    "        B += lpsum([ Z_ijdt[1][j][d][t] for j in Supp] ) == 1"
   ]
  },
  {
   "cell_type": "code",
   "execution_count": 7,
   "id": "c038bd0b",
   "metadata": {},
   "outputs": [
    {
     "ename": "SyntaxError",
     "evalue": "invalid syntax (<ipython-input-7-1ae3a3bc32b1>, line 4)",
     "output_type": "error",
     "traceback": [
      "\u001b[1;36m  File \u001b[1;32m\"<ipython-input-7-1ae3a3bc32b1>\"\u001b[1;36m, line \u001b[1;32m4\u001b[0m\n\u001b[1;33m    for h!=1 in supp:\u001b[0m\n\u001b[1;37m         ^\u001b[0m\n\u001b[1;31mSyntaxError\u001b[0m\u001b[1;31m:\u001b[0m invalid syntax\n"
     ]
    }
   ],
   "source": [
    "#constraint 9\n",
    "for d in Trips:\n",
    "    for t in Trucks:\n",
    "        for h!=1 in supp:\n",
    "            B += lpsum([ Z_ijdt[i][h][d][t] for i in Supp] ) == lpsum([ Z_ijdt[h][j][d][t] for j in Supp] ) "
   ]
  },
  {
   "cell_type": "markdown",
   "id": "5b00c14f",
   "metadata": {},
   "source": [
    "# Sample Pulp problem below"
   ]
  },
  {
   "cell_type": "code",
   "execution_count": null,
   "id": "52b34d21",
   "metadata": {},
   "outputs": [],
   "source": [
    "x1 = LpVariable(\"ChickenPercent\", 0, None, LpInteger)\n",
    "x2 = LpVariable(\"BeefPercent\", 0)\n"
   ]
  },
  {
   "cell_type": "code",
   "execution_count": null,
   "id": "5ce89d82",
   "metadata": {},
   "outputs": [],
   "source": [
    "# Create the 'prob' variable to contain the problem data\n",
    "prob = LpProblem(\"The Whiskas Problem\", LpMinimize)"
   ]
  },
  {
   "cell_type": "code",
   "execution_count": null,
   "id": "48ae5652",
   "metadata": {},
   "outputs": [],
   "source": [
    "# The objective function is added to 'prob' first\n",
    "prob += 0.013 * x1 + 0.008 * x2, \"Total Cost of Ingredients per can\""
   ]
  },
  {
   "cell_type": "code",
   "execution_count": null,
   "id": "c43ae8f7",
   "metadata": {},
   "outputs": [],
   "source": [
    "# The five constraints are entered\n",
    "prob += x1 + x2 == 100, \"PercentagesSum\"\n",
    "prob += 0.100 * x1 + 0.200 * x2 >= 8.0, \"ProteinRequirement\"\n",
    "prob += 0.080 * x1 + 0.100 * x2 >= 6.0, \"FatRequirement\"\n",
    "prob += 0.001 * x1 + 0.005 * x2 <= 2.0, \"FibreRequirement\"\n",
    "prob += 0.002 * x1 + 0.005 * x2 <= 0.4, \"SaltRequirement\""
   ]
  },
  {
   "cell_type": "code",
   "execution_count": null,
   "id": "97b93ac7",
   "metadata": {},
   "outputs": [],
   "source": [
    "# The problem data is written to an .lp file\n",
    "prob.writeLP(\"WhiskasModel.lp\")"
   ]
  },
  {
   "cell_type": "code",
   "execution_count": null,
   "id": "c1aa178f",
   "metadata": {},
   "outputs": [],
   "source": [
    "# The problem is solved using PuLP's choice of Solver\n",
    "prob.solve()"
   ]
  },
  {
   "cell_type": "code",
   "execution_count": null,
   "id": "ac139f9d",
   "metadata": {},
   "outputs": [],
   "source": [
    "# The status of the solution is printed to the screen\n",
    "print(\"Status:\", LpStatus[prob.status])"
   ]
  },
  {
   "cell_type": "code",
   "execution_count": null,
   "id": "8ad14987",
   "metadata": {},
   "outputs": [],
   "source": [
    "# Each of the variables is printed with it's resolved optimum value\n",
    "for v in prob.variables():\n",
    "    print(v.name, \"=\", v.varValue)"
   ]
  },
  {
   "cell_type": "code",
   "execution_count": null,
   "id": "5ee731ed",
   "metadata": {},
   "outputs": [],
   "source": [
    "# The optimised objective function value is printed to the screen\n",
    "print(\"Total Cost of Ingredients per can = \", value(prob.objective))"
   ]
  },
  {
   "cell_type": "markdown",
   "id": "72cd15bc",
   "metadata": {},
   "source": [
    "# Scientific Equipment Repair\n",
    "\n",
    "Now that your drone shipments are up and running with an optimized schedule, your team has more capacity to help the forward deployed scientists troubleshoot their equipment.\n",
    "\n",
    "One of the instruments they use is equipped with analog components that are prone to malfunctioning. The research teams often struggle to efficiently identify the faulty component(s) in their system when observing anomalous behavior.\n",
    "\n",
    "A schematic of one such system is shown below.\n",
    "\n",
    "<img src=Logic_Array.png style=\"width: 60%;\">\n",
    "\n",
    "According to the component manufacturer, the AND gates have a probability of failure of 2% and the exclusive OR gates have a failure probability of 2.5%.\n",
    "\n",
    "\n",
    "##"
   ]
  },
  {
   "cell_type": "code",
   "execution_count": null,
   "id": "1efe40e2",
   "metadata": {},
   "outputs": [],
   "source": []
  }
 ],
 "metadata": {
  "kernelspec": {
   "display_name": "Python 3",
   "language": "python",
   "name": "python3"
  },
  "language_info": {
   "codemirror_mode": {
    "name": "ipython",
    "version": 3
   },
   "file_extension": ".py",
   "mimetype": "text/x-python",
   "name": "python",
   "nbconvert_exporter": "python",
   "pygments_lexer": "ipython3",
   "version": "3.7.4"
  }
 },
 "nbformat": 4,
 "nbformat_minor": 5
}
